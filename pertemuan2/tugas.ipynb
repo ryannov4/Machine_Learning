{
 "cells": [
  {
   "cell_type": "markdown",
   "metadata": {},
   "source": [
    "# SOAL 1\n",
    "Buatlah identitas diri menggunakan pemograman python sederhana"
   ]
  },
  {
   "cell_type": "code",
   "execution_count": 1,
   "metadata": {},
   "outputs": [
    {
     "name": "stdout",
     "output_type": "stream",
     "text": [
      "DATA DIRI\n",
      "Nama:  Muhammad Ryan Novandi\n",
      "Kode Dosen:  20210801304\n",
      "Perkuliahan:  Machine Learning\n"
     ]
    }
   ],
   "source": [
    "#jawaban soal 1\n",
    "nama = \"Muhammad Ryan Novandi\"\n",
    "nim = \"20210801304\"\n",
    "mata_kuliah = \"Machine Learning\"\n",
    "\n",
    "print(\"DATA DIRI\")\n",
    "print(\"Nama: \", nama)\n",
    "print(\"Kode Dosen: \", nim)\n",
    "print(\"Perkuliahan: \", mata_kuliah)"
   ]
  },
  {
   "cell_type": "markdown",
   "metadata": {},
   "source": [
    "# SOAL 2 \n",
    "Buatlah matriksC dengan orde 2x3, dan nilai yang diberikan pada matriksC adalah sebagai berikut:\n",
    "- Baris 1 Kolom 1, nilai = 1\n",
    "- Baris 1 Kolom 2, nilai = 2\n",
    "- Baris 1 Kolom 3, nilai = 3\n",
    "- Baris 2 Kolom 1, nilai = 4\n",
    "- Baris 2 Kolom 2, nilai = 5\n",
    "- Baris 2 Kolom 3, nilai = 6"
   ]
  },
  {
   "cell_type": "code",
   "execution_count": 2,
   "metadata": {},
   "outputs": [
    {
     "name": "stdout",
     "output_type": "stream",
     "text": [
      "[[1, 2, 3], [4, 5, 6]]\n"
     ]
    }
   ],
   "source": [
    "#jawaban soal2\n",
    "matriksC= [[1,2,3],[4,5,6]]\n",
    "print(matriksC)\n"
   ]
  },
  {
   "cell_type": "markdown",
   "metadata": {},
   "source": [
    "# SOAL 3\n",
    "Buatlah matriks dengan orde 3x2, dengan nilai adalah:\n",
    "- Baris 1 Kolom 1, nilai = 2\n",
    "- Baris 1 Kolom 2, nilai = 2\n",
    "- Baris 2 Kolom 1, nilai = 2\n",
    "- Baris 2 Kolom 2, nilai = 2\n",
    "- Baris 3 Kolom 1, nilai = 2\n",
    "- Baris 3 Kolom 2, nilai = 2"
   ]
  },
  {
   "cell_type": "code",
   "execution_count": 3,
   "metadata": {},
   "outputs": [
    {
     "name": "stdout",
     "output_type": "stream",
     "text": [
      "[[2, 2], [2, 2], [2, 2]]\n"
     ]
    }
   ],
   "source": [
    "#jawaban soal 3\n",
    "matriks = [[2,2],[2,2],[2,2]]\n",
    "print(matriks)\n"
   ]
  },
  {
   "cell_type": "markdown",
   "metadata": {},
   "source": [
    "# SOAL 4\n",
    "Importlah library Numpy"
   ]
  },
  {
   "cell_type": "code",
   "execution_count": 4,
   "metadata": {},
   "outputs": [],
   "source": [
    "import numpy as np"
   ]
  },
  {
   "cell_type": "markdown",
   "metadata": {},
   "source": [
    "# SOAL 5\n",
    "Dengan memanfaatkan library numpy \n",
    "Buatlah matriks dengan menggunakan Library Numpy dengan panjang elemen adalah 32 dan matriks memiliki orde 4x8\n"
   ]
  },
  {
   "cell_type": "code",
   "execution_count": 5,
   "metadata": {},
   "outputs": [],
   "source": [
    "#jawaban 5\n",
    "from numpy import *\n",
    "matriks = range(32)\n",
    "matriks = reshape(matriks, (4,8))"
   ]
  },
  {
   "cell_type": "markdown",
   "metadata": {},
   "source": [
    "\n",
    "# SOAL 6\n",
    "Buatlah matriks dengan menggunakan Library Numpy dengan orde 3x30, dan nilai elemen dimulai dari indeks 1 sampai dengan 5 secara random.\n"
   ]
  },
  {
   "cell_type": "code",
   "execution_count": 6,
   "metadata": {},
   "outputs": [
    {
     "name": "stdout",
     "output_type": "stream",
     "text": [
      "[[2 4 2 4 1 4 1 1 1 3 4 4 2 1 4 1 4 3 4 3 3 4 3 2 3 1 1 1 1 3]\n",
      " [2 1 1 2 4 3 2 2 3 1 4 1 1 2 2 1 3 2 1 1 3 1 2 4 2 4 1 2 3 3]\n",
      " [2 1 3 3 1 4 1 3 4 4 1 2 1 3 4 2 2 4 2 3 2 4 1 4 2 4 3 2 4 3]]\n",
      "[[2 4 2 4 1 4 1 1 1 3 4 4 2 1 4 1 4 3 4 3 3 4 3 2 3 1 1 1 1 3]\n",
      " [2 1 1 2 4 3 2 2 3 1 4 1 1 2 2 1 3 2 1 1 3 1 2 4 2 4 1 2 3 3]\n",
      " [2 1 3 3 1 4 1 3 4 4 1 2 1 3 4 2 2 4 2 3 2 4 1 4 2 4 3 2 4 3]]\n"
     ]
    }
   ],
   "source": [
    "#jawaban 6\n",
    "import numpy as np\n",
    "from numpy import *\n",
    "\n",
    "matriks = np.random.randint(1,5,(3,30))\n",
    "print(matriks)\n",
    "\n",
    "print(matriks)"
   ]
  }
 ],
 "metadata": {
  "kernelspec": {
   "display_name": "Python 3",
   "language": "python",
   "name": "python3"
  },
  "language_info": {
   "codemirror_mode": {
    "name": "ipython",
    "version": 3
   },
   "file_extension": ".py",
   "mimetype": "text/x-python",
   "name": "python",
   "nbconvert_exporter": "python",
   "pygments_lexer": "ipython3",
   "version": "3.8.10"
  }
 },
 "nbformat": 4,
 "nbformat_minor": 2
}
